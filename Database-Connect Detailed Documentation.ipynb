{
 "cells": [
  {
   "cell_type": "markdown",
   "id": "5f26797d",
   "metadata": {},
   "source": [
    "# DATABASE-CONNECT\n",
    "Your one fine solution for the database tasks\n",
    "\n",
    "**Databases** Available in version 0.1.4\n",
    "1. MongoDb\n",
    "2. Cassandra ( Datastax Astra )"
   ]
  },
  {
   "cell_type": "code",
   "execution_count": null,
   "id": "df2d548f",
   "metadata": {},
   "outputs": [],
   "source": []
  },
  {
   "cell_type": "code",
   "execution_count": null,
   "id": "b1d5c55c",
   "metadata": {},
   "outputs": [],
   "source": []
  },
  {
   "cell_type": "code",
   "execution_count": null,
   "id": "7af662c5",
   "metadata": {},
   "outputs": [],
   "source": []
  },
  {
   "cell_type": "code",
   "execution_count": 1,
   "id": "3fd5d8cc",
   "metadata": {},
   "outputs": [],
   "source": [
    "#for cassandra operations\n",
    "import database_connect as connection\n",
    "zip_path = r'C:\\Users\\hrisi\\Downloads\\secure-connect-shohure-kotha.zip'\n",
    "client_id = 'sNDdkhPXxBpDLhCdmTXBtGKI'\n",
    "client_secret = 'Z2qW1vltrp1vQ5A-iWmqYkxSh0eGiZYkoZtxK8jufzHxrRKKgDelsAo0bmJrAM3FJwOJt4c,JY1LsrAQGt_oDilBJeqEiqIcM_PhFcvNsaw-MjwwpCqCNgbCL.SoHt.m'\n",
    "keyspace = 'test_package'   #note: keyspace should be created manually in datastax cassandra. Keyspaces are not allowed to create from backend.\n",
    "table_name = 'test_3'\n",
    "\n",
    "cassandra = connection.cassandra_operations(zip_path,\n",
    "                                            client_id,\n",
    "                                            client_secret,\n",
    "                                            keyspace,\n",
    "                                            table_name)\n"
   ]
  },
  {
   "cell_type": "code",
   "execution_count": null,
   "id": "1cd97dbd",
   "metadata": {},
   "outputs": [],
   "source": []
  },
  {
   "cell_type": "code",
   "execution_count": null,
   "id": "7193cfa1",
   "metadata": {},
   "outputs": [],
   "source": []
  },
  {
   "cell_type": "code",
   "execution_count": null,
   "id": "15522703",
   "metadata": {},
   "outputs": [],
   "source": []
  },
  {
   "cell_type": "code",
   "execution_count": null,
   "id": "2b4a8c85",
   "metadata": {},
   "outputs": [],
   "source": []
  },
  {
   "cell_type": "code",
   "execution_count": 2,
   "id": "fb179b0f",
   "metadata": {},
   "outputs": [],
   "source": [
    "# First, column names along with the data type should be created which we need to pass in the function\n",
    "# do not forget to create a primary key also\n",
    "columns = \"column1 text primary key, column2 text, column3 text\"\n",
    "# column_names = ','.join([name.split(' ')[0] if len(name.split(' ')[0])>1 else name.split(' ')[1] for name in [column for column in columns.split(',')] ])\n",
    "# cassandra.create_table(column_names)"
   ]
  },
  {
   "cell_type": "code",
   "execution_count": 3,
   "id": "152f19a7",
   "metadata": {},
   "outputs": [
    {
     "ename": "NameError",
     "evalue": "name 'column_names' is not defined",
     "output_type": "error",
     "traceback": [
      "\u001b[1;31m---------------------------------------------------------------------------\u001b[0m",
      "\u001b[1;31mNameError\u001b[0m                                 Traceback (most recent call last)",
      "Input \u001b[1;32mIn [3]\u001b[0m, in \u001b[0;36m<cell line: 1>\u001b[1;34m()\u001b[0m\n\u001b[1;32m----> 1\u001b[0m \u001b[43mcolumn_names\u001b[49m\n",
      "\u001b[1;31mNameError\u001b[0m: name 'column_names' is not defined"
     ]
    }
   ],
   "source": [
    "column_names"
   ]
  },
  {
   "cell_type": "code",
   "execution_count": 4,
   "id": "ee8d5c45",
   "metadata": {},
   "outputs": [
    {
     "name": "stdout",
     "output_type": "stream",
     "text": [
      " insert into test_3 (column1,column2,column3) values('value7', ' value2', ' value3');\n"
     ]
    }
   ],
   "source": [
    "values = \"value7, value2, value3\"\n",
    "values\n",
    "cassandra.insert_data(columns = columns, values=values)"
   ]
  },
  {
   "cell_type": "code",
   "execution_count": 8,
   "id": "3bd53f14",
   "metadata": {},
   "outputs": [],
   "source": [
    "df = cassandra.read_data()"
   ]
  },
  {
   "cell_type": "code",
   "execution_count": 7,
   "id": "9095cbbc",
   "metadata": {},
   "outputs": [],
   "source": [
    "cassandra.bulk_upload('test.csv', index_col = 0)"
   ]
  },
  {
   "cell_type": "code",
   "execution_count": 20,
   "id": "fa52837e",
   "metadata": {},
   "outputs": [],
   "source": [
    "import pandas as pd"
   ]
  },
  {
   "cell_type": "code",
   "execution_count": 25,
   "id": "97932165",
   "metadata": {},
   "outputs": [],
   "source": [
    "df = pd.read_csv('test.csv', index_col=0)"
   ]
  },
  {
   "cell_type": "code",
   "execution_count": null,
   "id": "5b6b335c",
   "metadata": {},
   "outputs": [],
   "source": []
  },
  {
   "cell_type": "code",
   "execution_count": null,
   "id": "e5ba9e45",
   "metadata": {},
   "outputs": [],
   "source": []
  },
  {
   "cell_type": "code",
   "execution_count": null,
   "id": "a180a582",
   "metadata": {},
   "outputs": [],
   "source": []
  },
  {
   "cell_type": "code",
   "execution_count": null,
   "id": "400e8152",
   "metadata": {},
   "outputs": [],
   "source": []
  },
  {
   "cell_type": "code",
   "execution_count": null,
   "id": "8d8f3d6c",
   "metadata": {},
   "outputs": [],
   "source": []
  },
  {
   "cell_type": "code",
   "execution_count": null,
   "id": "c7cc2f73",
   "metadata": {},
   "outputs": [],
   "source": []
  },
  {
   "cell_type": "code",
   "execution_count": null,
   "id": "86dff34f",
   "metadata": {},
   "outputs": [],
   "source": []
  },
  {
   "cell_type": "code",
   "execution_count": null,
   "id": "c72fa2d9",
   "metadata": {},
   "outputs": [],
   "source": []
  },
  {
   "cell_type": "code",
   "execution_count": null,
   "id": "4a7e2255",
   "metadata": {},
   "outputs": [],
   "source": []
  },
  {
   "cell_type": "code",
   "execution_count": null,
   "id": "84407b56",
   "metadata": {},
   "outputs": [],
   "source": []
  },
  {
   "cell_type": "code",
   "execution_count": null,
   "id": "9f631667",
   "metadata": {},
   "outputs": [],
   "source": []
  },
  {
   "cell_type": "code",
   "execution_count": null,
   "id": "07e124a8",
   "metadata": {},
   "outputs": [],
   "source": []
  },
  {
   "cell_type": "code",
   "execution_count": null,
   "id": "d20f976c",
   "metadata": {},
   "outputs": [],
   "source": []
  },
  {
   "cell_type": "code",
   "execution_count": null,
   "id": "a5fefbbf",
   "metadata": {},
   "outputs": [],
   "source": []
  },
  {
   "cell_type": "code",
   "execution_count": null,
   "id": "1dfe9cb2",
   "metadata": {},
   "outputs": [],
   "source": []
  },
  {
   "cell_type": "code",
   "execution_count": null,
   "id": "5f08a475",
   "metadata": {},
   "outputs": [],
   "source": []
  }
 ],
 "metadata": {
  "kernelspec": {
   "display_name": "Python 3 (ipykernel)",
   "language": "python",
   "name": "python3"
  },
  "language_info": {
   "codemirror_mode": {
    "name": "ipython",
    "version": 3
   },
   "file_extension": ".py",
   "mimetype": "text/x-python",
   "name": "python",
   "nbconvert_exporter": "python",
   "pygments_lexer": "ipython3",
   "version": "3.9.12"
  }
 },
 "nbformat": 4,
 "nbformat_minor": 5
}
